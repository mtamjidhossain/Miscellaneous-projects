{
  "nbformat": 4,
  "nbformat_minor": 0,
  "metadata": {
    "colab": {
      "name": "Document Word Count.ipynb",
      "provenance": []
    },
    "kernelspec": {
      "name": "python3",
      "display_name": "Python 3"
    },
    "language_info": {
      "name": "python"
    }
  },
  "cells": [
    {
      "cell_type": "code",
      "metadata": {
        "colab": {
          "base_uri": "https://localhost:8080/"
        },
        "id": "nce_vyd1JM1g",
        "outputId": "5d962f41-f0a6-4ccd-a793-06a5a0919cf2"
      },
      "source": [
        "#Installing environment\n",
        "!pip install wget\n",
        "import wget"
      ],
      "execution_count": 3,
      "outputs": [
        {
          "output_type": "stream",
          "name": "stdout",
          "text": [
            "Collecting wget\n",
            "  Downloading wget-3.2.zip (10 kB)\n",
            "Building wheels for collected packages: wget\n",
            "  Building wheel for wget (setup.py) ... \u001b[?25l\u001b[?25hdone\n",
            "  Created wheel for wget: filename=wget-3.2-py3-none-any.whl size=9672 sha256=9d2d72730396566333a11e847499b31ea20e56eefb67150634761872072a7da3\n",
            "  Stored in directory: /root/.cache/pip/wheels/a1/b6/7c/0e63e34eb06634181c63adacca38b79ff8f35c37e3c13e3c02\n",
            "Successfully built wget\n",
            "Installing collected packages: wget\n",
            "Successfully installed wget-3.2\n"
          ]
        }
      ]
    },
    {
      "cell_type": "code",
      "metadata": {
        "colab": {
          "base_uri": "https://localhost:8080/"
        },
        "id": "a7H7zPNtJx1I",
        "outputId": "a62c4306-fe14-422d-e794-5188657c7d0b"
      },
      "source": [
        "#importing file from dropbox\n",
        "!wget https://www.dropbox.com/s/azdxx2o3sk8tfi3/Random_Resume.pdf"
      ],
      "execution_count": 17,
      "outputs": [
        {
          "output_type": "stream",
          "name": "stdout",
          "text": [
            "--2021-09-10 10:26:50--  https://www.dropbox.com/s/azdxx2o3sk8tfi3/Random_Resume.pdf\n",
            "Resolving www.dropbox.com (www.dropbox.com)... 162.125.4.18, 2620:100:601c:18::a27d:612\n",
            "Connecting to www.dropbox.com (www.dropbox.com)|162.125.4.18|:443... connected.\n",
            "HTTP request sent, awaiting response... 301 Moved Permanently\n",
            "Location: /s/raw/azdxx2o3sk8tfi3/Random_Resume.pdf [following]\n",
            "--2021-09-10 10:26:50--  https://www.dropbox.com/s/raw/azdxx2o3sk8tfi3/Random_Resume.pdf\n",
            "Reusing existing connection to www.dropbox.com:443.\n",
            "HTTP request sent, awaiting response... 302 Found\n",
            "Location: https://uc506a1052d7242f06c7951b8033.dl.dropboxusercontent.com/cd/0/inline/BV6pQ1BwOW9J7jzguc9YUGsRHeBXuFVK8um-EHvUepjjs2ly5VoVLOtdkUqVVvv9cT5A0XjK7ibWJ0NrvxhqCiii3gY5tqgD0ak8CjOkk62La4d2MBpKMOSOModXsrohp1EhSh-HpYYfpgZrs9jcphrR/file# [following]\n",
            "--2021-09-10 10:26:50--  https://uc506a1052d7242f06c7951b8033.dl.dropboxusercontent.com/cd/0/inline/BV6pQ1BwOW9J7jzguc9YUGsRHeBXuFVK8um-EHvUepjjs2ly5VoVLOtdkUqVVvv9cT5A0XjK7ibWJ0NrvxhqCiii3gY5tqgD0ak8CjOkk62La4d2MBpKMOSOModXsrohp1EhSh-HpYYfpgZrs9jcphrR/file\n",
            "Resolving uc506a1052d7242f06c7951b8033.dl.dropboxusercontent.com (uc506a1052d7242f06c7951b8033.dl.dropboxusercontent.com)... 162.125.6.15, 2620:100:6019:15::a27d:40f\n",
            "Connecting to uc506a1052d7242f06c7951b8033.dl.dropboxusercontent.com (uc506a1052d7242f06c7951b8033.dl.dropboxusercontent.com)|162.125.6.15|:443... connected.\n",
            "HTTP request sent, awaiting response... 302 Found\n",
            "Location: /cd/0/inline2/BV6JLUcpW3BSQRErbqe6FuVY_UOb3lZCcDHHCHsErUP7jNdwBsVuqk9WSE5IV3UCs0E5GZVTOr3apeETTaHh20JIP22BJZfoL-pWPJ9NsLe9WwCNCsy7zQHEW8U17_ezWwsmFK0gnBU5e7X-I9V4T2gjWwag0X90YliNF8VOFOPMC1RgUSbofX5CiPiIBh9NGawn-ErJ_Sfjflpd18nh-pvwZ9xJGRJhoNAmUWgVf3syCZlDwgjVjsuSea2_UzgR7vrs0MYCF6cwdmaj8ll6rSQnb5wbFsuIAuvnDHKWZ_aCf7FTvoaVvDpelqk8nRMPe-uWrcF-vf-wA0lGgsQsidp4VOob7S62fXB-hcFu5XaSVqdNteCqyJK6ZTfXz2Es3zo/file [following]\n",
            "--2021-09-10 10:26:50--  https://uc506a1052d7242f06c7951b8033.dl.dropboxusercontent.com/cd/0/inline2/BV6JLUcpW3BSQRErbqe6FuVY_UOb3lZCcDHHCHsErUP7jNdwBsVuqk9WSE5IV3UCs0E5GZVTOr3apeETTaHh20JIP22BJZfoL-pWPJ9NsLe9WwCNCsy7zQHEW8U17_ezWwsmFK0gnBU5e7X-I9V4T2gjWwag0X90YliNF8VOFOPMC1RgUSbofX5CiPiIBh9NGawn-ErJ_Sfjflpd18nh-pvwZ9xJGRJhoNAmUWgVf3syCZlDwgjVjsuSea2_UzgR7vrs0MYCF6cwdmaj8ll6rSQnb5wbFsuIAuvnDHKWZ_aCf7FTvoaVvDpelqk8nRMPe-uWrcF-vf-wA0lGgsQsidp4VOob7S62fXB-hcFu5XaSVqdNteCqyJK6ZTfXz2Es3zo/file\n",
            "Reusing existing connection to uc506a1052d7242f06c7951b8033.dl.dropboxusercontent.com:443.\n",
            "HTTP request sent, awaiting response... 200 OK\n",
            "Length: 5070962 (4.8M) [application/pdf]\n",
            "Saving to: ‘Random_Resume.pdf’\n",
            "\n",
            "Random_Resume.pdf   100%[===================>]   4.84M  --.-KB/s    in 0.04s   \n",
            "\n",
            "2021-09-10 10:26:50 (135 MB/s) - ‘Random_Resume.pdf’ saved [5070962/5070962]\n",
            "\n"
          ]
        }
      ]
    },
    {
      "cell_type": "markdown",
      "metadata": {
        "id": "3P9slnX8OBym"
      },
      "source": [
        "## Creating a list of words"
      ]
    },
    {
      "cell_type": "code",
      "metadata": {
        "colab": {
          "base_uri": "https://localhost:8080/"
        },
        "id": "l4fK-XY9L3B-",
        "outputId": "76aca343-7908-4386-a3b0-c0c1849dc6aa"
      },
      "source": [
        "#creating list of words by splitting\n",
        "file = open('/content/Random_Resume.txt', 'r')                    # opening file in reading mode \n",
        "lst = []\n",
        "for x in file:\n",
        "  print(x)\n",
        "  lst.append(x.split(' '))\n",
        "lst"
      ],
      "execution_count": 18,
      "outputs": [
        {
          "output_type": "stream",
          "name": "stdout",
          "text": [
            "﻿Your\n",
            "\n",
            "Name\n",
            "\n",
            "Creative Director\n",
            "\n",
            "\t  \n",
            "\n",
            "\n",
            "\n",
            "Your Name\n",
            "\n",
            "123 Your Street\n",
            "\n",
            "Your City, ST 12345\n",
            "\n",
            "123.456.7890\n",
            "\n",
            "no_reply@example.com\n",
            "\n",
            "\tㅡ\n",
            "\n",
            "Skills\n",
            "\n",
            "\t  \n",
            "\n",
            "\n",
            "\n",
            "Lorem ipsum dolor sit amet, consectetur adipiscing elit. Aenean ac interdum nisi. Sed in consequat mi. Sed pulvinar lacinia felis eu finibus.\n",
            "\n",
            "\tㅡ\n",
            "\n",
            "Experience\n",
            "\n",
            "\t  \n",
            "\n",
            "\n",
            "\n",
            "Company Name / Job Title\n",
            "\n",
            "MONTH 20XX - PRESENT,  LOCATION\n",
            "\n",
            "Lorem ipsum dolor sit amet, consectetur adipiscing elit. Aenean ac interdum nisi. Sed in consequat mi. Sed in consequat mi, sed pulvinar lacinia felis eu finibus.\n",
            "\n",
            "Company Name / Job Title\n",
            "\n",
            "MONTH 20XX - MONTH 20XX,  LOCATION\n",
            "\n",
            "Lorem ipsum dolor sit amet, consectetur adipiscing elit. Aenean ac interdum nisi. Sed in consequat mi. \n",
            "\n",
            "Company Name / Job Title\n",
            "\n",
            "MONTH 20XX - MONTH 20XX,  LOCATION\n",
            "\n",
            "Lorem ipsum dolor sit amet, consectetur adipiscing elit. Aenean ac interdum nisi. Sed in consequat mi. Sed pulvinar lacinia felis eu finibus. \n",
            "\n",
            "\tㅡ\n",
            "\n",
            "Education\n",
            "\n",
            "\t  \n",
            "\n",
            "\n",
            "\n",
            "School Name / Degree\n",
            "\n",
            "MONTH 20XX - MONTH 20XX,  LOCATION\n",
            "\n",
            "Lorem ipsum dolor sit amet, consectetuer adipiscing elit, sed diam nonummy nibh euismod tincidunt ut laoreet dolore.\n",
            "\n",
            "School Name / Degree\n",
            "\n",
            "MONTH 20XX - MONTH 20XX,  LOCATION\n",
            "\n",
            "Lorem ipsum dolor sit amet, consectetuer adipiscing elit, sed diam nonummy nibh euismod tincidunt ut laoreet dolore.\n",
            "\n",
            "\tㅡ\n",
            "\n",
            "Awards\n",
            "\n",
            "\t  \n",
            "\n",
            "\n",
            "\n",
            "Lorem ipsum dolor sit amet, consectetur adipiscing elit. Aenean ac interdum nisi. Sed in consequat mi. Sed pulvinar lacinia felis eu finibus.\n"
          ]
        },
        {
          "output_type": "execute_result",
          "data": {
            "text/plain": [
              "[['\\ufeffYour\\n'],\n",
              " ['Name\\n'],\n",
              " ['Creative', 'Director\\n'],\n",
              " ['\\t', '', '\\n'],\n",
              " ['\\n'],\n",
              " ['Your', 'Name\\n'],\n",
              " ['123', 'Your', 'Street\\n'],\n",
              " ['Your', 'City,', 'ST', '12345\\n'],\n",
              " ['123.456.7890\\n'],\n",
              " ['no_reply@example.com\\n'],\n",
              " ['\\tㅡ\\n'],\n",
              " ['Skills\\n'],\n",
              " ['\\t', '', '\\n'],\n",
              " ['\\n'],\n",
              " ['Lorem',\n",
              "  'ipsum',\n",
              "  'dolor',\n",
              "  'sit',\n",
              "  'amet,',\n",
              "  'consectetur',\n",
              "  'adipiscing',\n",
              "  'elit.',\n",
              "  'Aenean',\n",
              "  'ac',\n",
              "  'interdum',\n",
              "  'nisi.',\n",
              "  'Sed',\n",
              "  'in',\n",
              "  'consequat',\n",
              "  'mi.',\n",
              "  'Sed',\n",
              "  'pulvinar',\n",
              "  'lacinia',\n",
              "  'felis',\n",
              "  'eu',\n",
              "  'finibus.\\n'],\n",
              " ['\\tㅡ\\n'],\n",
              " ['Experience\\n'],\n",
              " ['\\t', '', '\\n'],\n",
              " ['\\n'],\n",
              " ['Company', 'Name', '/', 'Job', 'Title\\n'],\n",
              " ['MONTH', '20XX', '-', 'PRESENT,', '', 'LOCATION\\n'],\n",
              " ['Lorem',\n",
              "  'ipsum',\n",
              "  'dolor',\n",
              "  'sit',\n",
              "  'amet,',\n",
              "  'consectetur',\n",
              "  'adipiscing',\n",
              "  'elit.',\n",
              "  'Aenean',\n",
              "  'ac',\n",
              "  'interdum',\n",
              "  'nisi.',\n",
              "  'Sed',\n",
              "  'in',\n",
              "  'consequat',\n",
              "  'mi.',\n",
              "  'Sed',\n",
              "  'in',\n",
              "  'consequat',\n",
              "  'mi,',\n",
              "  'sed',\n",
              "  'pulvinar',\n",
              "  'lacinia',\n",
              "  'felis',\n",
              "  'eu',\n",
              "  'finibus.\\n'],\n",
              " ['Company', 'Name', '/', 'Job', 'Title\\n'],\n",
              " ['MONTH', '20XX', '-', 'MONTH', '20XX,', '', 'LOCATION\\n'],\n",
              " ['Lorem',\n",
              "  'ipsum',\n",
              "  'dolor',\n",
              "  'sit',\n",
              "  'amet,',\n",
              "  'consectetur',\n",
              "  'adipiscing',\n",
              "  'elit.',\n",
              "  'Aenean',\n",
              "  'ac',\n",
              "  'interdum',\n",
              "  'nisi.',\n",
              "  'Sed',\n",
              "  'in',\n",
              "  'consequat',\n",
              "  'mi.',\n",
              "  '\\n'],\n",
              " ['Company', 'Name', '/', 'Job', 'Title\\n'],\n",
              " ['MONTH', '20XX', '-', 'MONTH', '20XX,', '', 'LOCATION\\n'],\n",
              " ['Lorem',\n",
              "  'ipsum',\n",
              "  'dolor',\n",
              "  'sit',\n",
              "  'amet,',\n",
              "  'consectetur',\n",
              "  'adipiscing',\n",
              "  'elit.',\n",
              "  'Aenean',\n",
              "  'ac',\n",
              "  'interdum',\n",
              "  'nisi.',\n",
              "  'Sed',\n",
              "  'in',\n",
              "  'consequat',\n",
              "  'mi.',\n",
              "  'Sed',\n",
              "  'pulvinar',\n",
              "  'lacinia',\n",
              "  'felis',\n",
              "  'eu',\n",
              "  'finibus.',\n",
              "  '\\n'],\n",
              " ['\\tㅡ\\n'],\n",
              " ['Education\\n'],\n",
              " ['\\t', '', '\\n'],\n",
              " ['\\n'],\n",
              " ['School', 'Name', '/', 'Degree\\n'],\n",
              " ['MONTH', '20XX', '-', 'MONTH', '20XX,', '', 'LOCATION\\n'],\n",
              " ['Lorem',\n",
              "  'ipsum',\n",
              "  'dolor',\n",
              "  'sit',\n",
              "  'amet,',\n",
              "  'consectetuer',\n",
              "  'adipiscing',\n",
              "  'elit,',\n",
              "  'sed',\n",
              "  'diam',\n",
              "  'nonummy',\n",
              "  'nibh',\n",
              "  'euismod',\n",
              "  'tincidunt',\n",
              "  'ut',\n",
              "  'laoreet',\n",
              "  'dolore.\\n'],\n",
              " ['School', 'Name', '/', 'Degree\\n'],\n",
              " ['MONTH', '20XX', '-', 'MONTH', '20XX,', '', 'LOCATION\\n'],\n",
              " ['Lorem',\n",
              "  'ipsum',\n",
              "  'dolor',\n",
              "  'sit',\n",
              "  'amet,',\n",
              "  'consectetuer',\n",
              "  'adipiscing',\n",
              "  'elit,',\n",
              "  'sed',\n",
              "  'diam',\n",
              "  'nonummy',\n",
              "  'nibh',\n",
              "  'euismod',\n",
              "  'tincidunt',\n",
              "  'ut',\n",
              "  'laoreet',\n",
              "  'dolore.\\n'],\n",
              " ['\\tㅡ\\n'],\n",
              " ['Awards\\n'],\n",
              " ['\\t', '', '\\n'],\n",
              " ['\\n'],\n",
              " ['Lorem',\n",
              "  'ipsum',\n",
              "  'dolor',\n",
              "  'sit',\n",
              "  'amet,',\n",
              "  'consectetur',\n",
              "  'adipiscing',\n",
              "  'elit.',\n",
              "  'Aenean',\n",
              "  'ac',\n",
              "  'interdum',\n",
              "  'nisi.',\n",
              "  'Sed',\n",
              "  'in',\n",
              "  'consequat',\n",
              "  'mi.',\n",
              "  'Sed',\n",
              "  'pulvinar',\n",
              "  'lacinia',\n",
              "  'felis',\n",
              "  'eu',\n",
              "  'finibus.']]"
            ]
          },
          "metadata": {},
          "execution_count": 18
        }
      ]
    },
    {
      "cell_type": "markdown",
      "metadata": {
        "id": "dSVS_HnxNzX2"
      },
      "source": [
        "## Counting words from the list"
      ]
    },
    {
      "cell_type": "code",
      "metadata": {
        "colab": {
          "base_uri": "https://localhost:8080/"
        },
        "id": "_j7-j-gkNa24",
        "outputId": "1d80dc74-0513-48eb-e2f1-9de59e1bbbd1"
      },
      "source": [
        "# One way\n",
        "d = 0                                          #counter\n",
        "for i in range(len(lst)):\n",
        "  d+=1\n",
        "d"
      ],
      "execution_count": 19,
      "outputs": [
        {
          "output_type": "execute_result",
          "data": {
            "text/plain": [
              "43"
            ]
          },
          "metadata": {},
          "execution_count": 19
        }
      ]
    },
    {
      "cell_type": "code",
      "metadata": {
        "colab": {
          "base_uri": "https://localhost:8080/"
        },
        "id": "-LdAi5rSNrbS",
        "outputId": "15123cf9-2d73-445b-e4fd-ce0903510625"
      },
      "source": [
        "# Other way\n",
        "len(lst)"
      ],
      "execution_count": 20,
      "outputs": [
        {
          "output_type": "execute_result",
          "data": {
            "text/plain": [
              "43"
            ]
          },
          "metadata": {},
          "execution_count": 20
        }
      ]
    }
  ]
}